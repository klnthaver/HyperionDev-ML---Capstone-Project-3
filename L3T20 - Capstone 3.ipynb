{
 "cells": [
  {
   "cell_type": "markdown",
   "metadata": {},
   "source": [
    "# L3T20 - Capstone Project 3"
   ]
  },
  {
   "cell_type": "markdown",
   "metadata": {},
   "source": [
    "## Setup"
   ]
  },
  {
   "cell_type": "markdown",
   "metadata": {},
   "source": [
    "This is where package import and variable initialisation is performed in preparation for the requirements of the project."
   ]
  },
  {
   "cell_type": "code",
   "execution_count": 1,
   "metadata": {},
   "outputs": [],
   "source": [
    "# Import required packages for project\n",
    "\n",
    "import warnings\n",
    "warnings.filterwarnings('ignore')\n",
    "\n",
    "import numpy as np\n",
    "import matplotlib.pyplot as plt\n",
    "\n",
    "from tensorflow.keras.models import Sequential\n",
    "from tensorflow.keras.layers import Embedding\n",
    "from tensorflow.keras.layers import Flatten\n",
    "from tensorflow.keras.layers import Dense\n",
    "from tensorflow.keras.layers import Dropout\n",
    "from tensorflow.keras.layers import Conv1D\n",
    "from tensorflow.keras.layers import MaxPooling1D\n",
    "from tensorflow.keras.layers import LSTM\n",
    "from tensorflow.keras.datasets import imdb\n",
    "from tensorflow.keras.preprocessing.sequence import pad_sequences\n"
   ]
  },
  {
   "cell_type": "code",
   "execution_count": 2,
   "metadata": {},
   "outputs": [],
   "source": [
    "# Model configuration\n",
    "\n",
    "rev_length = 500\n",
    "t_words = 10000\n",
    "embed_dim = 15\n",
    "loss_f = 'binary_crossentropy'\n",
    "optimizer = 'adam'\n",
    "metrics = ['accuracy']\n",
    "epochs = 3\n",
    "verbosity_mode = True\n",
    "bat_size = 64\n"
   ]
  },
  {
   "cell_type": "markdown",
   "metadata": {},
   "source": [
    "## Get the Dataset"
   ]
  },
  {
   "cell_type": "markdown",
   "metadata": {},
   "source": [
    "In this section the data is imported and visualised in order to understand what the data is communicating."
   ]
  },
  {
   "cell_type": "code",
   "execution_count": 3,
   "metadata": {},
   "outputs": [],
   "source": [
    "# Load dataset  and key from imdb set\n",
    "\n",
    "(x_train, y_train), (x_test, y_test) = imdb.load_data(num_words = t_words)\n",
    "word_to_id = imdb.get_word_index()\n"
   ]
  },
  {
   "cell_type": "code",
   "execution_count": 4,
   "metadata": {},
   "outputs": [],
   "source": [
    "# Create key for review generation\n",
    "\n",
    "offset=3   # word index offset\n",
    "word_to_id = {k:(v + offset) for k, v in word_to_id.items()}\n",
    "word_to_id[\"<PAD>\"] = 0\n",
    "word_to_id[\"<START>\"] = 1\n",
    "word_to_id[\"<UNK>\"] = 2\n",
    "word_to_id[\"<UNUSED>\"] = 3\n",
    "id_to_word = {value:key for key, value in word_to_id.items()}\n",
    "\n",
    "# Define review print function\n",
    "\n",
    "def print_rev(rev):\n",
    "    print('\\n=================================================')\n",
    "    print(f'Sample = {i} | Length = {len(rev)}')\n",
    "    print('=================================================')\n",
    "    print(' '.join(id_to_word[id] for id in rev ))\n",
    "    \n"
   ]
  },
  {
   "cell_type": "code",
   "execution_count": 5,
   "metadata": {},
   "outputs": [
    {
     "name": "stdout",
     "output_type": "stream",
     "text": [
      "\n",
      "=================================================\n",
      "Sample = 5326 | Length = 116\n",
      "=================================================\n",
      "<START> i realize this review will get me <UNK> by the expert film critics <UNK> this site but i will defend this film br br the dentist is actually a really good film the acting isn't always top notch but the thrills are good and the story's good plus you see linda <UNK> <UNK> not that i'm an expert in this field but the direction seems good and the plot makes sense corbin makes a great creepy dentist it does to <UNK> what jaws does to sharks ish it obviously had a fairly limited budget but they did well with it what they could and developed the characters well those that count br br the end\n",
      "\n",
      "=================================================\n",
      "Sample = 100 | Length = 158\n",
      "=================================================\n",
      "<START> i am a great fan of david lynch and have everything that he's made on dvd except for hotel room the 2 hour twin peaks movie so when i found out about this i immediately grabbed it and and what is this it's a bunch of <UNK> drawn black and white cartoons that are loud and foul mouthed and unfunny maybe i don't know what's good but maybe this is just a bunch of crap that was <UNK> on the public under the name of david lynch to make a few bucks too let me make it clear that i didn't care about the foul language part but had to keep <UNK> the sound because my neighbors might have all in all this is a highly disappointing release and may well have just been left in the <UNK> box set as a curiosity i highly recommend you don't spend your money on this 2 out of 10\n",
      "\n",
      "=================================================\n",
      "Sample = 24073 | Length = 176\n",
      "=================================================\n",
      "<START> set in <UNK> <UNK> island feeding the masses tries to be a <UNK> look at the role of the media in government at best it could be applied to how the us try to control media during the iraq war but it ends up feeling hollow there's never any really tension in the story and the acting never very good worst the direction of the movie is atrocious focus more on odd camera angles that fail to convey anything beyond isn't this an odd way to hold the camera special effects are pretty bad at one point video of an explosion is green screened over the city and it's laughable at best br br the film does have a couple bright spots namely the <UNK> for post zombie services including a <UNK> service and a party bus but it's far too little to make the film worthwhile br br for a better zombie film try hide and creep it has the same weak production value but there's much more wit humor and talent behind it\n"
     ]
    }
   ],
   "source": [
    " # Print random reviews\n",
    "    \n",
    "rev_n = 3\n",
    "for i in np.random.randint(0, len(x_train), rev_n):\n",
    "    print_rev(x_train[i])\n",
    "    "
   ]
  },
  {
   "cell_type": "markdown",
   "metadata": {},
   "source": [
    "## Preprocessing"
   ]
  },
  {
   "cell_type": "markdown",
   "metadata": {},
   "source": [
    "The data is then preprocessed in order to ensure compatibility with the modelling structures to be used in the neural network. The only processing required is that the reviews need to be truncated to 500 words and any reviews shorter are to be padded so that all of the data is of a similar size."
   ]
  },
  {
   "cell_type": "code",
   "execution_count": 6,
   "metadata": {},
   "outputs": [],
   "source": [
    "# Pad review sequences\n",
    "\n",
    "x_trainp = pad_sequences(x_train, maxlen = rev_length, value = 0)\n",
    "x_testp = pad_sequences(x_test, maxlen = rev_length, value = 0)\n"
   ]
  },
  {
   "cell_type": "markdown",
   "metadata": {},
   "source": [
    "## Model Building"
   ]
  },
  {
   "cell_type": "markdown",
   "metadata": {},
   "source": [
    "The Neural Network is now developed. The first layer is the Embedding layer which allows the neural network to operate on text data that are converted to integers. LSTM layers are then added to enable the recurrence required in the RNN. Dropout wa used in order to help prevent overfitting of the model.\n",
    "\n",
    "The input to the model would be a vector of 500 integers as defined in the data preprocessing step while the output would be a number between 0 and 1 where 0 is a negative sentiment and 1 is a postive sentiment."
   ]
  },
  {
   "cell_type": "code",
   "execution_count": 7,
   "metadata": {},
   "outputs": [
    {
     "name": "stdout",
     "output_type": "stream",
     "text": [
      "WARNING:tensorflow:From C:\\Users\\thaverk\\Anaconda3\\lib\\site-packages\\tensorflow\\python\\keras\\initializers.py:119: calling RandomUniform.__init__ (from tensorflow.python.ops.init_ops) with dtype is deprecated and will be removed in a future version.\n",
      "Instructions for updating:\n",
      "Call initializer instance with the dtype argument instead of passing it to the constructor\n",
      "WARNING:tensorflow:From C:\\Users\\thaverk\\Anaconda3\\lib\\site-packages\\tensorflow\\python\\ops\\init_ops.py:1251: calling VarianceScaling.__init__ (from tensorflow.python.ops.init_ops) with dtype is deprecated and will be removed in a future version.\n",
      "Instructions for updating:\n",
      "Call initializer instance with the dtype argument instead of passing it to the constructor\n"
     ]
    }
   ],
   "source": [
    "# Define the nearal model layers\n",
    "np.random.seed(7)\n",
    "model = Sequential()\n",
    "model.add(Embedding(t_words, embed_dim, input_length = rev_length))\n",
    "#model.add(Dropout(0.50))\n",
    "model.add(LSTM(64, return_sequences = True))\n",
    "model.add(LSTM(32))\n",
    "#model.add(Dropout(0.20))\n",
    "model.add(Dense(1, activation = 'sigmoid'))\n"
   ]
  },
  {
   "cell_type": "markdown",
   "metadata": {},
   "source": [
    "## Model Training"
   ]
  },
  {
   "cell_type": "markdown",
   "metadata": {},
   "source": [
    "The model is then compiled and trained using the training and test sets."
   ]
  },
  {
   "cell_type": "code",
   "execution_count": 8,
   "metadata": {},
   "outputs": [
    {
     "name": "stdout",
     "output_type": "stream",
     "text": [
      "WARNING:tensorflow:From C:\\Users\\thaverk\\Anaconda3\\lib\\site-packages\\tensorflow\\python\\ops\\nn_impl.py:180: add_dispatch_support.<locals>.wrapper (from tensorflow.python.ops.array_ops) is deprecated and will be removed in a future version.\n",
      "Instructions for updating:\n",
      "Use tf.where in 2.0, which has the same broadcast rule as np.where\n",
      "Model: \"sequential\"\n",
      "_________________________________________________________________\n",
      "Layer (type)                 Output Shape              Param #   \n",
      "=================================================================\n",
      "embedding (Embedding)        (None, 500, 15)           150000    \n",
      "_________________________________________________________________\n",
      "lstm (LSTM)                  (None, 500, 64)           20480     \n",
      "_________________________________________________________________\n",
      "lstm_1 (LSTM)                (None, 32)                12416     \n",
      "_________________________________________________________________\n",
      "dense (Dense)                (None, 1)                 33        \n",
      "=================================================================\n",
      "Total params: 182,929\n",
      "Trainable params: 182,929\n",
      "Non-trainable params: 0\n",
      "_________________________________________________________________\n",
      "Train on 25000 samples, validate on 25000 samples\n",
      "Epoch 1/3\n",
      "25000/25000 [==============================] - 378s 15ms/sample - loss: 0.4708 - acc: 0.7706 - val_loss: 0.5419 - val_acc: 0.7452\n",
      "Epoch 2/3\n",
      "25000/25000 [==============================] - 381s 15ms/sample - loss: 0.2843 - acc: 0.8860 - val_loss: 0.3189 - val_acc: 0.8658\n",
      "Epoch 3/3\n",
      "25000/25000 [==============================] - 405s 16ms/sample - loss: 0.2134 - acc: 0.9213 - val_loss: 0.4037 - val_acc: 0.8477\n"
     ]
    }
   ],
   "source": [
    "# Compile the model\n",
    "model.compile(optimizer = optimizer, loss = loss_f, metrics = metrics)\n",
    "\n",
    "# Give a summary\n",
    "model.summary()\n",
    "\n",
    "# Train the model\n",
    "epochist = model.fit(x_trainp, y_train, epochs = epochs\n",
    "                     , verbose = verbosity_mode\n",
    "                     , validation_data = (x_testp, y_test)\n",
    "                     , batch_size = bat_size)\n"
   ]
  },
  {
   "cell_type": "markdown",
   "metadata": {},
   "source": [
    "## Model Testing"
   ]
  },
  {
   "cell_type": "markdown",
   "metadata": {},
   "source": [
    "The performance of the neural network is then evaluated using the test set and the epoch history is visualised to see whether further epochs may improve the model significantly."
   ]
  },
  {
   "cell_type": "code",
   "execution_count": 9,
   "metadata": {},
   "outputs": [
    {
     "name": "stdout",
     "output_type": "stream",
     "text": [
      "Test results: \n",
      " ==> Loss: 0.404    \n",
      " ==> Accuracy: 84.77%\n"
     ]
    }
   ],
   "source": [
    "# Evaluate model performance using test data\n",
    "\n",
    "test_results = model.evaluate(x_testp, y_test, verbose = False)\n",
    "print(f'Test results: \\n ==> Loss: {np.round(test_results[0], 3)}\\\n",
    "    \\n ==> Accuracy: {np.round(100*test_results[1], 2)}%')\n"
   ]
  },
  {
   "cell_type": "code",
   "execution_count": 10,
   "metadata": {},
   "outputs": [
    {
     "data": {
      "image/png": "[encoded data removed]",
      "text/plain": [
       "<Figure size 432x288 with 1 Axes>"
      ]
     },
     "metadata": {
      "needs_background": "light"
     },
     "output_type": "display_data"
    },
    {
     "data": {
      "image/png": "[encoded data removed]",
      "text/plain": [
       "<Figure size 432x288 with 1 Axes>"
      ]
     },
     "metadata": {
      "needs_background": "light"
     },
     "output_type": "display_data"
    }
   ],
   "source": [
    "# Visualize history\n",
    "# Plot history: Validation loss\n",
    "plt.plot(epochist.history['val_loss'])\n",
    "plt.title('Validation loss history')\n",
    "plt.ylabel('Loss value')\n",
    "plt.xlabel('No. epoch')\n",
    "plt.show()\n",
    "\n",
    "# Plot history: Accuracy\n",
    "plt.plot(epochist.history['val_acc'])\n",
    "plt.title('Validation accuracy history')\n",
    "plt.ylabel('Accuracy value (%)')\n",
    "plt.xlabel('No. epoch')\n",
    "plt.show()\n"
   ]
  },
  {
   "cell_type": "markdown",
   "metadata": {},
   "source": [
    "## Prediction examples"
   ]
  },
  {
   "cell_type": "markdown",
   "metadata": {},
   "source": [
    "The final test of the model is whether it can identify a handful of sentiments from some sample reviews. An evaluation function is defined that takes a string (review) and converts it to a list of integers which can then be processes into inputs to the model. The output of the function will indicate the sentiment of the review."
   ]
  },
  {
   "cell_type": "code",
   "execution_count": 34,
   "metadata": {},
   "outputs": [],
   "source": [
    "# Define function that outputs the sentiment from \n",
    "# a review using the neural network\n",
    "\n",
    "def evaluate(review):\n",
    "    # Split review into words\n",
    "    r_split = review.lower().split()\n",
    "    \n",
    "    # Convert words to integers using word_to_id dictionary\n",
    "    r_id = [2 if word_to_id.get(m) == None \n",
    "            else word_to_id.get(m) for m in r_split]\n",
    "    \n",
    "    # Pad and truncate to input length\n",
    "    rid_p = pad_sequences(np.array(list([r_id])), \n",
    "                      maxlen = rev_length, value = 0)\n",
    "    \n",
    "    # Use model\n",
    "    sent = model.predict(rid_p)\n",
    "    \n",
    "    # Interpret results\n",
    "    if sent < 0.95:\n",
    "        sentiment = 'Negative'\n",
    "    else:\n",
    "        sentiment = 'Positive'\n",
    "    return sentiment\n"
   ]
  },
  {
   "cell_type": "code",
   "execution_count": 36,
   "metadata": {},
   "outputs": [
    {
     "name": "stdout",
     "output_type": "stream",
     "text": [
      "This movie is good --> Positive Sentiment\n",
      "This movie is not good --> Negative Sentiment\n",
      "This movie was good --> Positive Sentiment\n",
      "This movie was not good --> Negative Sentiment\n",
      "This movie is bad --> Negative Sentiment\n",
      "This movie is not bad --> Negative Sentiment\n",
      "This movie was bad --> Negative Sentiment\n",
      "This movie was not bad --> Negative Sentiment\n",
      "An interesting study in death by boredom --> Negative Sentiment\n",
      "Fascinating and beautiful --> Positive Sentiment\n",
      "The movie is great --> Positive Sentiment\n",
      "The movie is not great --> Positive Sentiment\n"
     ]
    }
   ],
   "source": [
    "# Test model with self-defined examples\n",
    "\n",
    "examples = ['This movie is good'\n",
    "            ,'This movie is not good'\n",
    "            ,'This movie was good'\n",
    "            ,'This movie was not good'\n",
    "            , 'This movie is bad'\n",
    "            , 'This movie is not bad'\n",
    "            , 'This movie was bad'\n",
    "            , 'This movie was not bad'\n",
    "            , 'An interesting study in death by boredom'\n",
    "            , 'Fascinating and beautiful'\n",
    "            , 'The movie is great'\n",
    "            , 'The movie is not great'\n",
    "]\n",
    "\n",
    "for eg in examples:\n",
    "    print(f'{eg} --> {evaluate(eg)} Sentiment')\n",
    "    "
   ]
  },
  {
   "cell_type": "markdown",
   "metadata": {},
   "source": [
    "Various reviews were passed through the model. Short examples were used as short reviews are more difficult to evaluate due to lower amounts of data and this will allow the identification of weak points in the neural network.\n",
    "\n",
    "The main issue with the prediction of the model is that negatives are not handled consistently 'not good' is correctly identified as negative however 'not bad' is not identified as positive and 'not great' is not identified as negative."
   ]
  }
 ],
 "metadata": {
  "kernelspec": {
   "display_name": "Python 3",
   "language": "python",
   "name": "python3"
  },
  "language_info": {
   "codemirror_mode": {
    "name": "ipython",
    "version": 3
   },
   "file_extension": ".py",
   "mimetype": "text/x-python",
   "name": "python",
   "nbconvert_exporter": "python",
   "pygments_lexer": "ipython3",
   "version": "3.6.10"
  }
 },
 "nbformat": 4,
 "nbformat_minor": 4
}
